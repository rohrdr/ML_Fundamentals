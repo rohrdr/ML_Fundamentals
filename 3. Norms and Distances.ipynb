{
 "cells": [
  {
   "cell_type": "code",
   "execution_count": 1,
   "metadata": {},
   "outputs": [
    {
     "data": {
      "text/html": [
       "<style>\n",
       "\n",
       "div.cell { /* Tunes the space between cells */\n",
       "margin-top:1em;\n",
       "margin-bottom:1em;\n",
       "}\n",
       "\n",
       "div.text_cell_render h1 { /* Main titles bigger, centered */\n",
       "font-size: 2.2em;\n",
       "line-height:1.4em;\n",
       "text-align:center;\n",
       "}\n",
       "\n",
       "div.text_cell_render h2 { /*  Parts names nearer from text */\n",
       "margin-bottom: -0.4em;\n",
       "}\n",
       "\n",
       "\n",
       "div.text_cell_render { /* Customize text cells */\n",
       "font-family: 'Arial';\n",
       "font-size:1.5em;\n",
       "line-height:1.4em;\n",
       "padding-left:3em;\n",
       "padding-right:3em;\n",
       "}\n",
       "\n",
       ".MathJax {\n",
       "    font-size: 70%;\n",
       "}\n",
       "</style>\n"
      ],
      "text/plain": [
       "<IPython.core.display.HTML object>"
      ]
     },
     "execution_count": 1,
     "metadata": {},
     "output_type": "execute_result"
    }
   ],
   "source": [
    "from IPython.display import HTML\n",
    "css_file = './custom.css'\n",
    "HTML(open(css_file, \"r\").read())"
   ]
  },
  {
   "cell_type": "markdown",
   "metadata": {},
   "source": [
    "# Norms and Distances\n",
    "\n",
    "© 2018 Daniel Voigt Godoy"
   ]
  },
  {
   "cell_type": "markdown",
   "metadata": {},
   "source": [
    "## 1. Definition\n",
    "\n",
    "From [Wikipedia](https://en.wikipedia.org/wiki/Norm_(mathematics)):\n",
    "\n",
    "    ...a norm is a function that assigns a strictly positive length or size to each vector in a vector space — except for the zero vector, which is assigned a length of zero.\n",
    "    \n",
    "### 1.1 Euclidean Distance\n",
    "\n",
    "You probably know the most common norm of them all: $\\ell_2$ norm (or distance). This is the ***Euclidean Distance*** commonly referred to as the distance between two points:\n",
    "\n",
    "$$\n",
    "\\ell_2 = ||x||_2 = \\sqrt{|x_1|^2 + \\dots + |x_n|^2} = \\sqrt{\\sum_{i=1}^n|x_i|^2}\n",
    "$$\n",
    "\n",
    "![euclidean distance](https://upload.wikimedia.org/wikipedia/commons/thumb/1/10/Euclidean_distance_3d_2_cropped.png/295px-Euclidean_distance_3d_2_cropped.png)\n",
    "<center>Source: Wikipedia</center>\n",
    "\n",
    "### 1.2 Manhattan Distance\n",
    "\n",
    "You may also have heard of the $\\ell_1$ norm (or distance). This is called ***Manhattan Distance***:\n",
    "\n",
    "$$\n",
    "\\ell_1 = ||x||_1 = |x_1| + \\dots + |x_n| = \\sum_{i=1}^n|x_i|\n",
    "$$\n",
    "\n",
    "![manhattan distance](https://upload.wikimedia.org/wikipedia/commons/thumb/0/08/Manhattan_distance.svg/240px-Manhattan_distance.svg.png)\n",
    "<center>Source: Wikipedia</center>\n",
    "\n",
    "### 1.3 Minkowski Distance of order *p*\n",
    "\n",
    "There is a pattern to it... you add up all elements exponentiated to the \"number\" of the norm (1 or 2 in the examples above), then you take the \"number\"-root of the result.\n",
    "\n",
    "If we say this \"number\" is $p$, we can write the formula like this:\n",
    "\n",
    "$$\n",
    "||\\boldsymbol{x}||_p = \\bigg(\\sum_{i=1}^{n}|x_i|^p\\bigg)^{\\frac{1}{p}}\n",
    "$$\n",
    "\n",
    "### 1.4 Infinity Norm\n",
    "\n",
    "This is a special case, which is equivalent to taking the maximum absolute value of all values:\n",
    "\n",
    "$$\n",
    "||\\boldsymbol{x}||_{\\infty} = max(|x_1|, \\dots, |x_n|)\n",
    "$$"
   ]
  },
  {
   "cell_type": "markdown",
   "metadata": {},
   "source": [
    "## 2. Experiment\n",
    "\n",
    "Time to try it yourself!\n",
    "\n",
    "The slider below allows you to change $p$ to get the contour plots for different norms.\n",
    "\n",
    "Use the slider to play with different configurations and answer the ***questions*** below."
   ]
  },
  {
   "cell_type": "code",
   "execution_count": 1,
   "metadata": {},
   "outputs": [],
   "source": [
    "from intuitiveml.algebra.Norm import *\n",
    "from intuitiveml.utils import gen_button"
   ]
  },
  {
   "cell_type": "code",
   "execution_count": 2,
   "metadata": {},
   "outputs": [],
   "source": [
    "norm = plotNorm()\n",
    "vb = VBox(build_figure(norm), layout={'align_items': 'center'})"
   ]
  },
  {
   "cell_type": "code",
   "execution_count": 3,
   "metadata": {},
   "outputs": [
    {
     "data": {
      "application/vnd.jupyter.widget-view+json": {
       "model_id": "ace9a690d95f43d396fbf2b85e680359",
       "version_major": 2,
       "version_minor": 0
      },
      "text/plain": [
       "VBox(children=(FigureWidget({\n",
       "    'data': [{'autocontour': False,\n",
       "              'contours': {'end': 50, 'size'…"
      ]
     },
     "metadata": {},
     "output_type": "display_data"
    }
   ],
   "source": [
    "vb"
   ]
  },
  {
   "cell_type": "markdown",
   "metadata": {},
   "source": [
    "#### Questions\n",
    "\n",
    "1. What happens to the general ***level*** of values (look at the colorscale) as $p$ increases?\n",
    "2. Let's compare Manhattan to Euclidean distances:\n",
    "    - Using ***Manhattan Distance***, hover your mouse over any point along the ***x axis*** (y = 0) and note its coordinates: its Z value is the computed distance.\n",
    "    - Using ***Euclidean Distance***, go to the same point and note its coordinates. What happens to the computed distance? Did it get bigger / smaller?\n",
    "    - Repeat the process, but this time choose a point along the ***diagonal*** (x and y having the same value). How do the distances compare to each other?"
   ]
  },
  {
   "cell_type": "markdown",
   "metadata": {},
   "source": [
    "### Answers\n",
    "1. The shape goes from diamond over circly to square shape.\n",
    "2. Compareing Manhaten Distance (L1) to Euclidean Distance (L2)\n",
    "    - The distance (z value) is always equal to the abolute value of x.\n",
    "    - The distance (z value) is always equal to the abolute value of x.\n",
    "    - The distances are not equal anymore. The L2 gives smaller values than the L1."
   ]
  },
  {
   "cell_type": "markdown",
   "metadata": {},
   "source": [
    "## 3. Comparing Norms"
   ]
  },
  {
   "cell_type": "markdown",
   "metadata": {},
   "source": [
    "Here are plots for different $p$-norms, side by side, for easier comparison.\n",
    "\n",
    "It is also possible to have $p$ values smaller than one, which yield \"pointy\" figures like the first one.\n",
    "\n",
    "On the opposite end, if we use a $p$ value of a 100, it is already pretty close to the depicting the ***maximum*** value of the coordinates (as expected for the ***infinity norm***)"
   ]
  },
  {
   "cell_type": "code",
   "execution_count": 4,
   "metadata": {},
   "outputs": [
    {
     "data": {
      "image/png": "[encoded data removed]",
      "text/plain": [
       "<Figure size 864x576 with 6 Axes>"
      ]
     },
     "metadata": {},
     "output_type": "display_data"
    }
   ],
   "source": [
    "f = plot_norms()"
   ]
  },
  {
   "cell_type": "markdown",
   "metadata": {},
   "source": [
    "## 4. Numpy\n",
    "\n",
    "[np.linalg.norm](https://docs.scipy.org/doc/numpy-1.14.0/reference/generated/numpy.linalg.norm.html)"
   ]
  },
  {
   "cell_type": "markdown",
   "metadata": {},
   "source": [
    "#### This material is copyright Daniel Voigt Godoy and made available under the Creative Commons Attribution (CC-BY) license ([link](https://creativecommons.org/licenses/by/4.0/)). \n",
    "\n",
    "#### Code is also made available under the MIT License ([link](https://opensource.org/licenses/MIT))."
   ]
  },
  {
   "cell_type": "code",
   "execution_count": 6,
   "metadata": {},
   "outputs": [
    {
     "data": {
      "text/html": [
       "<script>\n",
       "  function code_toggle() {\n",
       "    if (code_shown){\n",
       "      $('div.input').hide('500');\n",
       "      $('#toggleButton').val('Show Code')\n",
       "    } else {\n",
       "      $('div.input').show('500');\n",
       "      $('#toggleButton').val('Hide Code')\n",
       "    }\n",
       "    code_shown = !code_shown\n",
       "  }\n",
       "\n",
       "  $( document ).ready(function(){\n",
       "    code_shown=false;\n",
       "    $('div.input').hide()\n",
       "  });\n",
       "</script>\n",
       "<form action=\"javascript:code_toggle()\"><input type=\"submit\" id=\"toggleButton\" value=\"Show Code\"></form>"
      ],
      "text/plain": [
       "<IPython.core.display.HTML object>"
      ]
     },
     "execution_count": 6,
     "metadata": {},
     "output_type": "execute_result"
    }
   ],
   "source": [
    "from IPython.display import HTML\n",
    "HTML('''<script>\n",
    "  function code_toggle() {\n",
    "    if (code_shown){\n",
    "      $('div.input').hide('500');\n",
    "      $('#toggleButton').val('Show Code')\n",
    "    } else {\n",
    "      $('div.input').show('500');\n",
    "      $('#toggleButton').val('Hide Code')\n",
    "    }\n",
    "    code_shown = !code_shown\n",
    "  }\n",
    "\n",
    "  $( document ).ready(function(){\n",
    "    code_shown=false;\n",
    "    $('div.input').hide()\n",
    "  });\n",
    "</script>\n",
    "<form action=\"javascript:code_toggle()\"><input type=\"submit\" id=\"toggleButton\" value=\"Show Code\"></form>''')"
   ]
  },
  {
   "cell_type": "code",
   "execution_count": null,
   "metadata": {},
   "outputs": [],
   "source": []
  }
 ],
 "metadata": {
  "kernelspec": {
   "display_name": "Python 3",
   "language": "python",
   "name": "python3"
  },
  "language_info": {
   "codemirror_mode": {
    "name": "ipython",
    "version": 3
   },
   "file_extension": ".py",
   "mimetype": "text/x-python",
   "name": "python",
   "nbconvert_exporter": "python",
   "pygments_lexer": "ipython3",
   "version": "3.6.7"
  }
 },
 "nbformat": 4,
 "nbformat_minor": 2
}
